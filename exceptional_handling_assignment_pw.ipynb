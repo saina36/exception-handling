{
  "nbformat": 4,
  "nbformat_minor": 0,
  "metadata": {
    "colab": {
      "provenance": []
    },
    "kernelspec": {
      "name": "python3",
      "display_name": "Python 3"
    },
    "language_info": {
      "name": "python"
    }
  },
  "cells": [
    {
      "cell_type": "markdown",
      "source": [
        "#PWSKILLS ASSIGNMENT\n",
        "##Files, exceptional handling, logging and memory management\n",
        "###THEORY QUESTIONS\n",
        "1. What is the difference between interpreted and compiled languages?\n",
        "\n",
        "Interpreted languages execute code line-by-line at runtime, while compiled languages convert the entire code into machine code before execution.  \n",
        "\n",
        "2. What is exception handling in Python?  \n",
        "\n",
        "Exception handling in Python is a mechanism that manages runtime errors using `try`, `except`, `else`, and `finally` blocks to prevent program crashes.  \n",
        "\n",
        "3. What is the purpose of the `finally` block in exception handling?  \n",
        "\n",
        "The `finally` block is used to execute code regardless of whether an exception occurs, typically for cleanup tasks like closing files or releasing resources.  \n",
        "\n",
        "4. What is logging in Python?  \n",
        "\n",
        "Logging in Python is a method for tracking events that occur during a program’s execution to aid in debugging and monitoring.  \n",
        "\n",
        "5. What is the significance of the `__del__` method in Python?  \n",
        "\n",
        "The `__del__` method is called when an object is destroyed and is used for cleanup tasks such as closing file handles or releasing resources.  \n",
        "\n",
        "6. What is the difference between `import` and `from ... import` in Python?\n",
        "\n",
        "`import` imports the entire module, while `from ... import` imports only the specified function or class from a module.  \n",
        "\n",
        "7. How can you handle multiple exceptions in Python?  \n",
        "\n",
        "Multiple exceptions can be handled using multiple `except` blocks or by combining exceptions within a single `except` block.  \n",
        "\n",
        "8. What is the purpose of the `with` statement when handling files in Python?\n",
        "\n",
        "The `with` statement ensures that a file is properly closed after its suite finishes executing, simplifying resource management.  \n",
        "\n",
        "9. What is the difference between multithreading and multiprocessing?  \n",
        "\n",
        "Multithreading runs multiple threads in the same process, sharing memory, while multiprocessing runs multiple processes independently with separate memory spaces.  \n",
        "\n",
        "10. What are the advantages of using logging in a program?  \n",
        "\n",
        "Logging enhances debugging, improves traceability, provides flexible log levels, and efficiently monitors program execution.  \n",
        "\n",
        "11. What is memory management in Python?  \n",
        "\n",
        "Memory management in Python involves automatic techniques like reference counting, garbage collection, and dynamic memory allocation.  \n",
        "\n",
        "12. What are the basic steps involved in exception handling in Python?\n",
        "\n",
        "The basic steps are defining a `try` block for risky code, an `except` block to handle errors, an optional `else` block for successful execution, and a `finally` block for cleanup.  \n",
        "\n",
        "13. Why is memory management important in Python?\n",
        "\n",
        "Memory management is important to prevent memory leaks, improve performance, and ensure optimal resource utilization.  \n",
        "\n",
        "14. What is the role of try and except in exception handling?  \n",
        "\n",
        "The `try` block contains code that may raise an error, and the `except` block handles the error if it occurs, preventing the program from crashing.  \n",
        "\n",
        "15. How does Python's garbage collection system work?  \n",
        "\n",
        "Python uses reference counting to manage memory. An object's reference count increases when assigned to a variable or added to a collection, and decreases when references are deleted. When the reference count reaches zero, the garbage collector automatically removes the object.  \n",
        "\n",
        "16. What is the purpose of the else block in exception handling?  \n",
        "\n",
        "The `else` block runs only when the `try` block executes successfully without raising an exception.  \n",
        "\n",
        "17. What are the common logging levels in Python?  \n",
        "\n",
        "The common logging levels are DEBUG, INFO, WARNING, ERROR, and CRITICAL.  \n",
        "\n",
        "18. What is the difference between os.fork() and multiprocessing in Python?  \n",
        "\n",
        "`os.fork()` creates a child process by duplicating the current process and works only on Unix-like systems. The `multiprocessing` module works cross-platform, creating independent processes that run in parallel.  \n",
        "\n",
        "19. What is the importance of closing a file in Python?  \n",
        "\n",
        "Closing a file is important because it releases system resources, ensures data integrity, and prevents data loss or corruption.  \n",
        "\n",
        "20. What is the difference between file.read() and file.readline() in Python?  \n",
        "\n",
        "`file.read()` reads the entire file as a string, while `file.readline()` reads one line at a time.  \n",
        "\n",
        "21. What is the logging module in Python used for?  \n",
        "\n",
        "The `logging` module is used to record messages about a program's execution, helping track events, errors, and warnings efficiently.  \n",
        "\n",
        "22. What is the os module in Python used for in file handling?  \n",
        "\n",
        "The `os` module provides functions to interact with the operating system for file handling tasks like creating, renaming, and deleting files.  \n",
        "\n",
        "23. What are the challenges associated with memory management in Python?  \n",
        "\n",
        "Challenges include circular references, memory leaks, and higher memory usage due to Python's dynamic typing and flexible data structures.  \n",
        "\n",
        "24. How do you raise an exception manually in Python?  \n",
        "\n",
        "The `raise` keyword is used to manually trigger an exception in Python.  \n",
        "\n",
        "25. Why is it important to use multithreading in certain applications?  \n",
        "\n",
        "Multithreading improves performance in I/O-bound tasks, enhances responsiveness, and reduces waiting time by allowing concurrent execution.  "
      ],
      "metadata": {
        "id": "XVDqwEkDyBLc"
      }
    },
    {
      "cell_type": "markdown",
      "source": [
        "##PRACTICAL QUESTIONS\n",
        "1. How can you open a file for writing in Python and write a string to it."
      ],
      "metadata": {
        "id": "pI6pybUY_T3R"
      }
    },
    {
      "cell_type": "code",
      "execution_count": null,
      "metadata": {
        "id": "4PtYXw1fx6Gi"
      },
      "outputs": [],
      "source": [
        "with open(\"file.txt\",'w') as f:\n",
        "  f.write(\"hi im saina\\n\")\n"
      ]
    },
    {
      "cell_type": "markdown",
      "source": [
        "2. Write a Python program to read the contents of a file and print each line."
      ],
      "metadata": {
        "id": "YeQ-Evyh6HzN"
      }
    },
    {
      "cell_type": "code",
      "source": [
        "with open(\"file.txt\",'a') as f:\n",
        "  f.write(\" im 22 years old\")\n",
        "with open(\"file.txt\",'r') as f:\n",
        "  print(f.readline())\n",
        "  print(f.readline())"
      ],
      "metadata": {
        "colab": {
          "base_uri": "https://localhost:8080/"
        },
        "id": "MjXXyz2e59uM",
        "outputId": "a40c6ffd-0df4-4dbb-d952-dd09ba455b5f"
      },
      "execution_count": null,
      "outputs": [
        {
          "output_type": "stream",
          "name": "stdout",
          "text": [
            "hi im saina\n",
            "\n",
            " im 22 years old\n"
          ]
        }
      ]
    },
    {
      "cell_type": "markdown",
      "source": [
        "3. How would you handle a case where the file doesn't exist while trying to open it for reading."
      ],
      "metadata": {
        "id": "Hp2_qp9A77P8"
      }
    },
    {
      "cell_type": "code",
      "source": [
        "try:\n",
        "    with open(\"non_existent_file.txt\", 'r') as f:\n",
        "        content = f.read()\n",
        "        print(content)\n",
        "except FileNotFoundError:\n",
        "    print(\"Error: The file does not exist. Please check the file name or path.\")\n",
        "\n"
      ],
      "metadata": {
        "colab": {
          "base_uri": "https://localhost:8080/"
        },
        "id": "Cw20zL2G6asg",
        "outputId": "c6c7eb48-f4ed-49c4-e44b-3e3c2338b8c3"
      },
      "execution_count": null,
      "outputs": [
        {
          "output_type": "stream",
          "name": "stdout",
          "text": [
            "Error: The file does not exist. Please check the file name or path.\n"
          ]
        }
      ]
    },
    {
      "cell_type": "markdown",
      "source": [
        "4. Write a Python script that reads from one file and writes its content to another file."
      ],
      "metadata": {
        "id": "oDWZD7Ec8MzE"
      }
    },
    {
      "cell_type": "code",
      "source": [
        "with open(\"file.txt\",'r') as f:\n",
        "  content=f.read()\n",
        "\n",
        "with open(\"file2.txt\",'w') as f2:\n",
        "    f2.write(content)\n",
        "    print(content)"
      ],
      "metadata": {
        "colab": {
          "base_uri": "https://localhost:8080/"
        },
        "id": "BpW3RV_v8Jtp",
        "outputId": "c5d47058-6817-4e38-a81c-6539dc1c9f22"
      },
      "execution_count": null,
      "outputs": [
        {
          "output_type": "stream",
          "name": "stdout",
          "text": [
            "hi im saina\n",
            " im 22 years old\n"
          ]
        }
      ]
    },
    {
      "cell_type": "markdown",
      "source": [
        "5. How would you catch and handle division by zero error in Python"
      ],
      "metadata": {
        "id": "H7I3Z1I39c3K"
      }
    },
    {
      "cell_type": "code",
      "source": [
        "def divide(a,b):\n",
        "  try:\n",
        "    a/b\n",
        "  except ZeroDivisionError as e:\n",
        "    print(e)\n",
        "\n",
        "divide(10,0)"
      ],
      "metadata": {
        "colab": {
          "base_uri": "https://localhost:8080/"
        },
        "id": "aiv4z4ZE8yj9",
        "outputId": "e6a8c6a7-c6b4-4f64-8840-88ca3a75d18a"
      },
      "execution_count": null,
      "outputs": [
        {
          "output_type": "stream",
          "name": "stdout",
          "text": [
            "division by zero\n"
          ]
        }
      ]
    },
    {
      "cell_type": "markdown",
      "source": [
        "6. Write a Python program that logs an error message to a log file when a division by zero exception occurs"
      ],
      "metadata": {
        "id": "K-yAadBN96it"
      }
    },
    {
      "cell_type": "code",
      "source": [
        "import logging\n",
        "\n",
        "logging.basicConfig(filename='error_log.txt',\n",
        "                    level=logging.INFO)\n",
        "\n",
        "def divide(a, b):\n",
        "    try:\n",
        "        result = a / b\n",
        "        logging.info(\"division result:\")\n",
        "        print(f\"Result: {result}\")\n",
        "    except ZeroDivisionError:\n",
        "        logging.error(\"Attempted to divide by zero.\")\n",
        "        print(\"Error: Division by zero is not allowed.\")\n",
        "\n",
        "divide(20,0)"
      ],
      "metadata": {
        "colab": {
          "base_uri": "https://localhost:8080/"
        },
        "id": "Rqhyy3rlAWc-",
        "outputId": "0f2bb986-a28c-45f9-fc37-0c5a279d6604"
      },
      "execution_count": 1,
      "outputs": [
        {
          "output_type": "stream",
          "name": "stderr",
          "text": [
            "ERROR:root:Attempted to divide by zero.\n"
          ]
        },
        {
          "output_type": "stream",
          "name": "stdout",
          "text": [
            "Error: Division by zero is not allowed.\n"
          ]
        }
      ]
    },
    {
      "cell_type": "markdown",
      "source": [
        "7.  How do you log information at different levels (INFO, ERROR, WARNING) in Python using the logging module"
      ],
      "metadata": {
        "id": "pFae7e9VAwLI"
      }
    },
    {
      "cell_type": "code",
      "source": [
        "import logging\n",
        "\n",
        "logging.basicConfig(filename='error_log.log',\n",
        "                    level=logging.INFO,force=True)\n",
        "\n",
        "logging.info(\"This is my info msg\")\n",
        "logging.error(\"This is my error message\")\n",
        "logging.warning(\"This is my warning msg\")\n",
        "logging.shutdown()\n"
      ],
      "metadata": {
        "id": "j1BbBPhZAk4_"
      },
      "execution_count": null,
      "outputs": []
    },
    {
      "cell_type": "markdown",
      "source": [
        "8. Write a program to handle a file opening error using exception handling."
      ],
      "metadata": {
        "id": "FGouk4NhEXj6"
      }
    },
    {
      "cell_type": "code",
      "source": [
        "try:\n",
        "  with open(\"example.txt\",'r') as f:\n",
        "    print(f.read())\n",
        "except FileNotFoundError as e:\n",
        "  print(e)"
      ],
      "metadata": {
        "id": "XqWYRktOB5rb",
        "colab": {
          "base_uri": "https://localhost:8080/"
        },
        "outputId": "7d675ad4-0a97-4910-aa09-ead9e564fa63"
      },
      "execution_count": null,
      "outputs": [
        {
          "output_type": "stream",
          "name": "stdout",
          "text": [
            "[Errno 2] No such file or directory: 'example.txt'\n"
          ]
        }
      ]
    },
    {
      "cell_type": "markdown",
      "source": [
        "9.  How can you read a file line by line and store its content in a list in Python."
      ],
      "metadata": {
        "id": "CVAXMwoMEuEs"
      }
    },
    {
      "cell_type": "code",
      "source": [
        "with open(\"file.txt\",'r') as f:\n",
        "  content=f.readlines()\n",
        "  print(content)"
      ],
      "metadata": {
        "colab": {
          "base_uri": "https://localhost:8080/"
        },
        "id": "dO8b90loErDx",
        "outputId": "0918d730-4a14-4038-d23b-8b71594f082a"
      },
      "execution_count": null,
      "outputs": [
        {
          "output_type": "stream",
          "name": "stdout",
          "text": [
            "['hi im saina\\n', ' im 22 years old']\n"
          ]
        }
      ]
    },
    {
      "cell_type": "markdown",
      "source": [
        "10. How can you append data to an existing file in Python"
      ],
      "metadata": {
        "id": "DHSAbDN4FLFT"
      }
    },
    {
      "cell_type": "code",
      "source": [
        "with open(\"file.txt\",'a') as f:\n",
        "  f.write(\"\\n I'm from India\")"
      ],
      "metadata": {
        "id": "ZbTsxMf3E_vm"
      },
      "execution_count": null,
      "outputs": []
    },
    {
      "cell_type": "markdown",
      "source": [
        "11. Write a Python program that uses a try-except block to handle an error when attempting to access a\n",
        "dictionary key that doesn't exist"
      ],
      "metadata": {
        "id": "rB7rDpCZFZiy"
      }
    },
    {
      "cell_type": "code",
      "source": [
        "dict={\"name\":\"saina\",\"age\":22}\n",
        "try:\n",
        "  print(dict[\"gender\"])\n",
        "except KeyError as e:\n",
        "  print(\"There is a keyerror\",e)"
      ],
      "metadata": {
        "colab": {
          "base_uri": "https://localhost:8080/"
        },
        "id": "LKrCU95BFWbG",
        "outputId": "051e4225-c10f-45a9-c781-a426d7f41d74"
      },
      "execution_count": null,
      "outputs": [
        {
          "output_type": "stream",
          "name": "stdout",
          "text": [
            "There is a keyerror 'gender'\n"
          ]
        }
      ]
    },
    {
      "cell_type": "markdown",
      "source": [
        "12. Write a program that demonstrates using multiple except blocks to handle different types of exceptions"
      ],
      "metadata": {
        "id": "YiIAJrmNF4Zl"
      }
    },
    {
      "cell_type": "code",
      "source": [
        "try:\n",
        "  with open(\"example.txt\",'r') as f:\n",
        "    print(f.read())\n",
        "except FileNotFoundError as e:\n",
        "  print(e)\n",
        "except IOError as e:\n",
        "  print(e)"
      ],
      "metadata": {
        "colab": {
          "base_uri": "https://localhost:8080/"
        },
        "id": "89dwROo1FnQp",
        "outputId": "2099190b-8879-4b3d-fc1f-dc720163532e"
      },
      "execution_count": null,
      "outputs": [
        {
          "output_type": "stream",
          "name": "stdout",
          "text": [
            "[Errno 2] No such file or directory: 'example.txt'\n"
          ]
        }
      ]
    },
    {
      "cell_type": "markdown",
      "source": [
        " 13. How would you check if a file exists before attempting to read it in Python"
      ],
      "metadata": {
        "id": "-O_6ml0JGNih"
      }
    },
    {
      "cell_type": "code",
      "source": [
        "try:\n",
        "    with open(\"example.txt\", 'r') as file:\n",
        "        content = file.read()\n",
        "        print(content)\n",
        "except FileNotFoundError:\n",
        "    print(\"Error: The file does not exist.\")\n"
      ],
      "metadata": {
        "colab": {
          "base_uri": "https://localhost:8080/"
        },
        "id": "lMLOscwCGLgz",
        "outputId": "60454a23-dc36-4488-f162-e44b4e19b0ab"
      },
      "execution_count": null,
      "outputs": [
        {
          "output_type": "stream",
          "name": "stdout",
          "text": [
            "Error: The file does not exist.\n"
          ]
        }
      ]
    },
    {
      "cell_type": "markdown",
      "source": [
        "14. Write a program that uses the logging module to log both informational and error messages"
      ],
      "metadata": {
        "id": "UZWxTJ0VgUtJ"
      }
    },
    {
      "cell_type": "code",
      "source": [
        "import logging\n",
        "\n",
        "# Configure logging\n",
        "logging.basicConfig(\n",
        "    filename='app.log',\n",
        "    level=logging.DEBUG,\n",
        "    format='%(asctime)s - %(levelname)s - %(message)s',force=True\n",
        ")\n",
        "\n",
        "def divide_numbers(a, b):\n",
        "    try:\n",
        "        result = a / b\n",
        "        logging.info(f\"Division successful: {a} / {b} = {result}\")\n",
        "        return result\n",
        "    except ZeroDivisionError:\n",
        "        logging.error(\"Attempted division by zero.\")\n",
        "        print(\"Error: Division by zero is not allowed.\")\n",
        "    except Exception as e:\n",
        "        logging.error(f\"An unexpected error occurred: {e}\")\n",
        "        print(f\"An unexpected error occurred: {e}\")\n",
        "\n",
        "# Example usage\n",
        "logging.info(\"Program started\")\n",
        "print(divide_numbers(10, 2))\n",
        "print(divide_numbers(5, 0))\n",
        "logging.info(\"Program finished\")\n"
      ],
      "metadata": {
        "id": "EJiTWdViGoIF",
        "colab": {
          "base_uri": "https://localhost:8080/"
        },
        "outputId": "8d7d562c-49d8-4694-bdd6-5074850d18a0"
      },
      "execution_count": 7,
      "outputs": [
        {
          "output_type": "stream",
          "name": "stdout",
          "text": [
            "5.0\n",
            "Error: Division by zero is not allowed.\n",
            "None\n"
          ]
        }
      ]
    },
    {
      "cell_type": "markdown",
      "source": [
        "15. Write a Python program that prints the content of a file and handles the case when the file is empty"
      ],
      "metadata": {
        "id": "wAr3spXFiIfl"
      }
    },
    {
      "cell_type": "code",
      "source": [
        "try:\n",
        "  with open(\"file.txt\",\"r\") as f:\n",
        "    content=f.read()\n",
        "    if content:\n",
        "      print(content)\n",
        "    else:\n",
        "      print(\"file is empty\")\n",
        "except FileNotFoundError as e:\n",
        "  print(e)\n"
      ],
      "metadata": {
        "colab": {
          "base_uri": "https://localhost:8080/"
        },
        "id": "Y0OpCALLg2up",
        "outputId": "7802f8c3-fb70-4fd7-8a07-7b7ff0c8e2ac"
      },
      "execution_count": 8,
      "outputs": [
        {
          "output_type": "stream",
          "name": "stdout",
          "text": [
            "[Errno 2] No such file or directory: 'file.txt'\n"
          ]
        }
      ]
    },
    {
      "cell_type": "markdown",
      "source": [
        "16. Demonstrate how to use memory profiling to check the memory usage of a small program"
      ],
      "metadata": {
        "id": "QOJzZnbMirpO"
      }
    },
    {
      "cell_type": "code",
      "source": [
        "from memory_profiler import profile\n",
        "\n",
        "@profile\n",
        "def my_function():\n",
        "    data = [i for i in range(100000)]  # Create a large list\n",
        "    return sum(data)\n",
        "\n",
        "my_function()\n"
      ],
      "metadata": {
        "colab": {
          "base_uri": "https://localhost:8080/"
        },
        "id": "6NeL6PNEinO6",
        "outputId": "fc116155-057d-45c9-9e7d-f5501a6fce3c"
      },
      "execution_count": 16,
      "outputs": [
        {
          "output_type": "stream",
          "name": "stdout",
          "text": [
            "ERROR: Could not find file <ipython-input-16-37c5c309076b>\n",
            "NOTE: %mprun can only be used on functions defined in physical files, and not in the IPython environment.\n"
          ]
        },
        {
          "output_type": "execute_result",
          "data": {
            "text/plain": [
              "4999950000"
            ]
          },
          "metadata": {},
          "execution_count": 16
        }
      ]
    },
    {
      "cell_type": "markdown",
      "source": [
        "17. Write a Python program to create and write a list of numbers to a file, one number per line"
      ],
      "metadata": {
        "id": "9SM6Obeyjz-e"
      }
    },
    {
      "cell_type": "code",
      "source": [
        "\n",
        "numbers = list(range(1, 11))\n",
        "\n",
        "\n",
        "with open(\"numbers.txt\", \"w\") as file:\n",
        "    for number in numbers:\n",
        "        file.write(f\"{number}\\n\")\n",
        "\n",
        "print(\"Numbers have been successfully written to 'numbers.txt'.\")\n",
        "with open(\"numbers.txt\", \"r\") as file:\n",
        "    print(file.read())\n"
      ],
      "metadata": {
        "colab": {
          "base_uri": "https://localhost:8080/"
        },
        "id": "4qqZw79NjaW1",
        "outputId": "2a774533-8a78-4f4d-e849-ebb3ac1fbe36"
      },
      "execution_count": 22,
      "outputs": [
        {
          "output_type": "stream",
          "name": "stdout",
          "text": [
            "Numbers have been successfully written to 'numbers.txt'.\n",
            "1\n",
            "2\n",
            "3\n",
            "4\n",
            "5\n",
            "6\n",
            "7\n",
            "8\n",
            "9\n",
            "10\n",
            "\n"
          ]
        }
      ]
    },
    {
      "cell_type": "markdown",
      "source": [
        "18. How would you implement a basic logging setup that logs to a file with rotation after 1MB"
      ],
      "metadata": {
        "id": "Y41HodZ3k5Qs"
      }
    },
    {
      "cell_type": "code",
      "source": [
        "import logging\n",
        "from logging.handlers import RotatingFileHandler\n",
        "\n",
        "logger = logging.getLogger(\"MyLogger\")\n",
        "logger.setLevel(logging.DEBUG)\n",
        "\n",
        "handler = RotatingFileHandler(\"apps.log\", maxBytes=1_048_576, backupCount=3)\n",
        "\n",
        "formatter = logging.Formatter('%(asctime)s - %(levelname)s - %(message)s')\n",
        "handler.setFormatter(formatter)\n",
        "\n",
        "logger.addHandler(handler)\n",
        "\n",
        "logger.debug(\"This is a debug message.\")\n",
        "logger.info(\"This is an info message.\")\n",
        "logger.warning(\"This is a warning message.\")\n",
        "logger.error(\"This is an error message.\")\n",
        "logger.critical(\"This is a critical message.\")\n",
        "\n",
        "print(\"Logs have been written to 'apps.log'.\")\n"
      ],
      "metadata": {
        "colab": {
          "base_uri": "https://localhost:8080/"
        },
        "id": "DnPtyyKMkMrL",
        "outputId": "86b13f06-455c-49bf-f585-91d46b8e014d"
      },
      "execution_count": 25,
      "outputs": [
        {
          "output_type": "stream",
          "name": "stdout",
          "text": [
            "Logs have been written to 'apps.log'.\n"
          ]
        }
      ]
    },
    {
      "cell_type": "markdown",
      "source": [
        "19. Write a program that handles both IndexError and KeyError using a try-except block"
      ],
      "metadata": {
        "id": "U8DG_0zFopGM"
      }
    },
    {
      "cell_type": "code",
      "source": [
        "def handle_errors():\n",
        "    try:\n",
        "        lst = [1, 2, 3]\n",
        "        print(lst[5])\n",
        "        data = {\"name\": \"Saina\"}\n",
        "        print(data[\"age\"])\n",
        "    except (IndexError, KeyError) as e:\n",
        "        print(f\"Error occurred: {e}\")\n",
        "\n",
        "handle_errors()\n"
      ],
      "metadata": {
        "colab": {
          "base_uri": "https://localhost:8080/"
        },
        "id": "dZfCKEvYosqy",
        "outputId": "1cbcc518-0efe-421c-9ff6-d01c90f65d3d"
      },
      "execution_count": 26,
      "outputs": [
        {
          "output_type": "stream",
          "name": "stdout",
          "text": [
            "Error occurred: list index out of range\n"
          ]
        }
      ]
    },
    {
      "cell_type": "markdown",
      "source": [
        "20.  How would you open a file and read its contents using a context manager in Python"
      ],
      "metadata": {
        "id": "vW4tdWN4pDnw"
      }
    },
    {
      "cell_type": "code",
      "source": [
        "with open(\"numbers.txt\", \"r\") as file:\n",
        "    content = file.read()\n",
        "\n",
        "print(content)\n"
      ],
      "metadata": {
        "colab": {
          "base_uri": "https://localhost:8080/"
        },
        "id": "C70FoFm7oso4",
        "outputId": "2baf7637-813f-464e-e615-cff98f2f958b"
      },
      "execution_count": 28,
      "outputs": [
        {
          "output_type": "stream",
          "name": "stdout",
          "text": [
            "1\n",
            "2\n",
            "3\n",
            "4\n",
            "5\n",
            "6\n",
            "7\n",
            "8\n",
            "9\n",
            "10\n",
            "\n"
          ]
        }
      ]
    },
    {
      "cell_type": "markdown",
      "source": [
        "21. Write a Python program that reads a file and prints the number of occurrences of a specific word"
      ],
      "metadata": {
        "id": "EUANJ3CIpR2I"
      }
    },
    {
      "cell_type": "code",
      "source": [
        "def count_word_occurrences(filename, word):\n",
        "    try:\n",
        "        with open(filename, \"r\") as file:\n",
        "            content = file.read().lower()\n",
        "        return content.count(word.lower())\n",
        "    except FileNotFoundError:\n",
        "        print(f\"File '{filename}' not found.\")\n",
        "        return 0\n",
        "\n",
        "filename = \"example.txt\"\n",
        "word = \"Python\"\n",
        "count = count_word_occurrences(filename, word)\n",
        "print(f\"The word '{word}' appears {count} times in '{filename}'.\")\n"
      ],
      "metadata": {
        "colab": {
          "base_uri": "https://localhost:8080/"
        },
        "id": "395vCdlPoCI9",
        "outputId": "cfff2571-d772-43a5-a555-ce0c127b9a50"
      },
      "execution_count": 29,
      "outputs": [
        {
          "output_type": "stream",
          "name": "stdout",
          "text": [
            "File 'example.txt' not found.\n",
            "The word 'Python' appears 0 times in 'example.txt'.\n"
          ]
        }
      ]
    },
    {
      "cell_type": "markdown",
      "source": [
        "22. How can you check if a file is empty before attempting to read its contents"
      ],
      "metadata": {
        "id": "rnoMGk7zpr6o"
      }
    },
    {
      "cell_type": "code",
      "source": [
        "import os\n",
        "\n",
        "def is_file_empty(filename):\n",
        "    return os.path.exists(filename) and os.path.getsize(filename) == 0\n",
        "\n",
        "filename = \"untitled.txt\"\n",
        "\n",
        "if is_file_empty(filename):\n",
        "    print(f\"'{filename}' is empty.\")\n",
        "else:\n",
        "    with open(filename, \"r\") as file:\n",
        "        content = file.read()\n",
        "        print(content)\n"
      ],
      "metadata": {
        "colab": {
          "base_uri": "https://localhost:8080/"
        },
        "id": "1asqYvH7pi52",
        "outputId": "b4efa1db-2dc7-45c0-d7cc-78ffce83ea72"
      },
      "execution_count": 32,
      "outputs": [
        {
          "output_type": "stream",
          "name": "stdout",
          "text": [
            "'untitled.txt' is empty.\n"
          ]
        }
      ]
    },
    {
      "cell_type": "markdown",
      "source": [
        "23.  Write a Python program that writes to a log file when an error occurs during file handling"
      ],
      "metadata": {
        "id": "Y7uwEMmoqHJG"
      }
    },
    {
      "cell_type": "code",
      "source": [
        "import logging\n",
        "\n",
        "logging.basicConfig(filename=\"error.log\", level=logging.ERROR, format=\"%(asctime)s - %(levelname)s - %(message)s\")\n",
        "\n",
        "def read_file(filename):\n",
        "    try:\n",
        "        with open(filename, \"r\") as file:\n",
        "            return file.read()\n",
        "    except Exception as e:\n",
        "        logging.error(f\"Error while reading file '{filename}': {e}\")\n",
        "        print(f\"An error occurred. Check 'error.log' for details.\")\n",
        "\n",
        "filename = \"example.txt\"\n",
        "content = read_file(filename)\n",
        "if content:\n",
        "    print(content)\n"
      ],
      "metadata": {
        "colab": {
          "base_uri": "https://localhost:8080/"
        },
        "id": "s10b9w6tp14y",
        "outputId": "e280321f-b7fa-4258-8009-209fb1158f29"
      },
      "execution_count": 33,
      "outputs": [
        {
          "output_type": "stream",
          "name": "stdout",
          "text": [
            "An error occurred. Check 'error.log' for details.\n"
          ]
        }
      ]
    },
    {
      "cell_type": "markdown",
      "source": [
        "# THANK YOU"
      ],
      "metadata": {
        "id": "JXtqKbahqfUi"
      }
    },
    {
      "cell_type": "code",
      "source": [],
      "metadata": {
        "id": "KiXDfPhLqZLa"
      },
      "execution_count": null,
      "outputs": []
    }
  ]
}